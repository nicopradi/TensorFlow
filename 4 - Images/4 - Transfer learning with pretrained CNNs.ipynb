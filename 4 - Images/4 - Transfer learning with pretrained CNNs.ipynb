{
 "cells": [
  {
   "cell_type": "code",
   "execution_count": 1,
   "metadata": {
    "collapsed": true
   },
   "outputs": [],
   "source": [
    "### Transfer learning\n",
    "\n",
    "# Objective: Classify cats and dogs images by using transfer learning using transfer learning (i.e\n",
    "# We'll customize a pre-trained CNN to a given task)\n",
    "# The idea is that if the pretrained network was train on a general enough dataset, it will effectively\n",
    "# serve as a generic model -> Take advantage of the parameters learned.\n",
    "\n",
    "# We'll try two ways to CUSTOMIZE a pretrained model : \n",
    "\n",
    "# 1/ Feature extraction: Simply add a new OUTPUT layer on top of the pretrained model so that you can REPURPOSE the\n",
    "# feature maps learned previously (feature map is the output of ONE filter applied to the previous layer)\n",
    "\n",
    "# 2/ Fine-tuning: Unfreeze a few of the top layers of a pre-trained model, add a new OUTPUT layer,\n",
    "# and jointly train these layers. It allows us to fine tune the higher-order feature maps to make them more relevant\n",
    "# for the specific task"
   ]
  },
  {
   "cell_type": "code",
   "execution_count": null,
   "metadata": {
    "collapsed": true
   },
   "outputs": [],
   "source": [
    "from __future__ import absolute_import, division, print_function, unicode_literals\n",
    "\n",
    "import os\n",
    "import numpy as np\n",
    "import matplotlib.pyplot as plt\n",
    "§\n",
    "import tensorflow as tf"
   ]
  }
 ],
 "metadata": {
  "kernelspec": {
   "display_name": "Python 3",
   "language": "python",
   "name": "python3"
  },
  "language_info": {
   "codemirror_mode": {
    "name": "ipython",
    "version": 3
   },
   "file_extension": ".py",
   "mimetype": "text/x-python",
   "name": "python",
   "nbconvert_exporter": "python",
   "pygments_lexer": "ipython3",
   "version": "3.6.7"
  }
 },
 "nbformat": 4,
 "nbformat_minor": 2
}
