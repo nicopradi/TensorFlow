{
 "cells": [
  {
   "cell_type": "code",
   "execution_count": 1,
   "metadata": {
    "collapsed": true
   },
   "outputs": [],
   "source": [
    "# Objective: Do some simple ML tasks without using Keras to get a strong\n",
    "# fondation of the first principles"
   ]
  },
  {
   "cell_type": "code",
   "execution_count": 2,
   "metadata": {
    "collapsed": false
   },
   "outputs": [
    {
     "name": "stderr",
     "output_type": "stream",
     "text": [
      "WARNING: Logging before flag parsing goes to stderr.\n",
      "W0902 16:37:01.466593 140735803462528 __init__.py:690] \n",
      "\n",
      "  TensorFlow's `tf-nightly` package will soon be updated to TensorFlow 2.0.\n",
      "\n",
      "  Please upgrade your code to TensorFlow 2.0:\n",
      "    * https://www.tensorflow.org/beta/guide/migration_guide\n",
      "\n",
      "  Or install the latest stable TensorFlow 1.X release:\n",
      "    * `pip install -U \"tensorflow==1.*\"`\n",
      "\n",
      "  Otherwise your code may be broken by the change.\n",
      "\n",
      "  \n"
     ]
    }
   ],
   "source": [
    "from __future__ import absolute_import, division, print_function, unicode_literals\n",
    "\n",
    "import tensorflow as tf\n",
    "\n",
    "tf.enable_eager_execution()"
   ]
  },
  {
   "cell_type": "code",
   "execution_count": 3,
   "metadata": {
    "collapsed": true
   },
   "outputs": [],
   "source": [
    "### Variables\n",
    "\n",
    "# Tensors are IMMUTABLE stateless objects. But your ML model needs to have changing state.\n",
    "# When you model train your mini batches contains different data. The same code to compute prediction\n",
    "# should behave differently according to the mini-batch\n",
    "\n",
    "# How to reprent this state which need to change over the course of the operations ? \n",
    "# -> Python is a statefull programming language\n",
    "\n",
    "\n",
    "# Tensor represent the computations, the equation, rather than the the result. A tensor is immutable and stateless"
   ]
  },
  {
   "cell_type": "code",
   "execution_count": 7,
   "metadata": {
    "collapsed": false
   },
   "outputs": [
    {
     "name": "stdout",
     "output_type": "stream",
     "text": [
      "tf.Tensor(\n",
      "[[2. 2. 2. 2. 2. 2. 2. 2. 2. 2.]\n",
      " [2. 2. 2. 2. 2. 2. 2. 2. 2. 2.]\n",
      " [2. 2. 2. 2. 2. 2. 2. 2. 2. 2.]\n",
      " [2. 2. 2. 2. 2. 2. 2. 2. 2. 2.]\n",
      " [2. 2. 2. 2. 2. 2. 2. 2. 2. 2.]\n",
      " [2. 2. 2. 2. 2. 2. 2. 2. 2. 2.]\n",
      " [2. 2. 2. 2. 2. 2. 2. 2. 2. 2.]\n",
      " [2. 2. 2. 2. 2. 2. 2. 2. 2. 2.]\n",
      " [2. 2. 2. 2. 2. 2. 2. 2. 2. 2.]\n",
      " [2. 2. 2. 2. 2. 2. 2. 2. 2. 2.]], shape=(10, 10), dtype=float32)\n"
     ]
    }
   ],
   "source": [
    "# Example \n",
    "\n",
    "x = tf.zeros((10, 10))\n",
    "x += 2 # Use python state\n",
    "print(x)"
   ]
  },
  {
   "cell_type": "code",
   "execution_count": 9,
   "metadata": {
    "collapsed": false
   },
   "outputs": [
    {
     "name": "stdout",
     "output_type": "stream",
     "text": [
      "v:  <tf.Variable 'Variable:0' shape=() dtype=float32, numpy=1.0>\n",
      "------------------------------\n",
      "v:  <tf.Variable 'Variable:0' shape=() dtype=float32, numpy=3.0>\n",
      "------------------------------\n",
      "v:  <tf.Variable 'Variable:0' shape=() dtype=float32, numpy=9.0>\n",
      "------------------------------\n",
      "2.0\n"
     ]
    }
   ],
   "source": [
    "# TF also has statefull operations (important to represent weights in a network for instance)\n",
    "\n",
    "# A Variable is an object which stores a value and, when used in a TensorFlow computation,\n",
    "# will implicitly read from this stored value. So it has a state, a value \n",
    "\n",
    "v = tf.Variable(1.0)\n",
    "assert v.numpy() == 1.0\n",
    "print('v: ', v)\n",
    "print('-'*30)\n",
    "# Reassign the value of a variable\n",
    "v.assign(3.0)\n",
    "assert v.numpy() == 3.0\n",
    "print('v: ', v)\n",
    "print('-'*30)\n",
    "\n",
    "v.assign(tf.square(v))\n",
    "assert v.numpy() == 9.0\n",
    "print('v: ', v)\n",
    "print('-'*30)\n",
    "\n",
    "# Remember that computations using Variables are automatically traced when computing gradients.\n",
    "# Using Variables is also a way to quickly let a reader of your code know that this piece of state is mutable."
   ]
  },
  {
   "cell_type": "code",
   "execution_count": 10,
   "metadata": {
    "collapsed": true
   },
   "outputs": [],
   "source": [
    "### Let's build and train a simple model\n",
    "# 1/ Define the model\n",
    "\n",
    "# Let's define a class to empasulate the Variables as well as the computation\n",
    "\n",
    "class Model():\n",
    "    ''' Class to emcapsulate Variables and the computation\n",
    "    '''\n",
    "    def __init__(self):\n",
    "        # In practice, these should be initialized to random values.\n",
    "        self.W = tf.Variable(5.0)\n",
    "        self.b = tf.Variable(0.0)\n",
    "        \n",
    "    def __call__(self, x):\n",
    "        # Return the computation\n",
    "        return self.W * x + self.b\n",
    "    \n",
    "# Define a model\n",
    "model = Model()\n",
    "\n",
    "# Verify the correctness of the operation\n",
    "assert model(3.0).numpy() == 15.0"
   ]
  },
  {
   "cell_type": "code",
   "execution_count": 11,
   "metadata": {
    "collapsed": true
   },
   "outputs": [],
   "source": [
    "# 2/ Define a loss function\n",
    "# Let's use the standard L2 loss\n",
    "\n",
    "def loss(Y_hat, Y):\n",
    "    ''' Compute the L2 loss function\n",
    "    '''\n",
    "    return tf.reduce_mean(tf.square(Y_hat - Y))"
   ]
  },
  {
   "cell_type": "code",
   "execution_count": 13,
   "metadata": {
    "collapsed": false
   },
   "outputs": [
    {
     "name": "stdout",
     "output_type": "stream",
     "text": [
      "Input[:10]:  tf.Tensor(\n",
      "[-0.29435527  0.81512433  0.8562746  -1.5440181   0.94921196  0.7814725\n",
      " -0.8256014   1.2323823   1.4547889   1.4259715 ], shape=(10,), dtype=float32)\n",
      "------------------------------\n",
      "Noise[:10]:  tf.Tensor(\n",
      "[ 0.08970284  5.545269    4.1221485  -2.7857041   4.8605466   5.591082\n",
      " -0.63167757  4.84446     8.027889    6.851552  ], shape=(10,), dtype=float32)\n",
      "------------------------------\n",
      "Output[:10]:  tf.Tensor(\n",
      "[ 0.08970284  5.545269    4.1221485  -2.7857041   4.8605466   5.591082\n",
      " -0.63167757  4.84446     8.027889    6.851552  ], shape=(10,), dtype=float32)\n"
     ]
    }
   ],
   "source": [
    "# 3/ Get training data\n",
    "\n",
    "# Let's synthesize the training data with noise\n",
    "\n",
    "# Parameters we want our model to learn\n",
    "TRUE_W = 3.0 \n",
    "TRUE_B = 2.0\n",
    "\n",
    "# Number of training examples\n",
    "M_TRAINING = 1000\n",
    "\n",
    "inputs = tf.random_normal(shape = [M_TRAINING])\n",
    "noise = tf.random_normal(shape = [M_TRAINING])\n",
    "outputs = TRUE_W * inputs + TRUE_B + noise\n",
    "\n",
    "print('Input[:10]: ', inputs[:10])\n",
    "print('-'*30)\n",
    "print('Noise[:10]: ', outputs[:10])\n",
    "print('-'*30)\n",
    "print('Output[:10]: ', outputs[:10])"
   ]
  },
  {
   "cell_type": "code",
   "execution_count": 17,
   "metadata": {
    "collapsed": false
   },
   "outputs": [
    {
     "data": {
      "image/png": "[encoded data removed]",
      "text/plain": [
       "<Figure size 432x288 with 1 Axes>"
      ]
     },
     "metadata": {},
     "output_type": "display_data"
    },
    {
     "name": "stdout",
     "output_type": "stream",
     "text": [
      "Initial loss function value:  9.18766\n"
     ]
    }
   ],
   "source": [
    "# Before training the model, let's see how the model perform on the training set\n",
    "\n",
    "import matplotlib.pyplot as plt\n",
    "\n",
    "plt.scatter(inputs, outputs, color = 'green')\n",
    "plt.scatter(inputs, model(inputs), color = 'red')\n",
    "plt.show()\n",
    "\n",
    "print('Initial loss function value: ', loss(model(inputs), outputs).numpy())"
   ]
  },
  {
   "cell_type": "code",
   "execution_count": 23,
   "metadata": {
    "collapsed": false
   },
   "outputs": [],
   "source": [
    "# 4/ Train the model\n",
    "\n",
    "# We'll implement GD by hand to have a better understanding of TF. \n",
    "# However in practice use: tf.train.Optimizer so that you don't need to write your optimizer\n",
    "\n",
    "def update(model, inputs, outputs, learning_rate = 0.1):\n",
    "    ''' Update the parameters according to Gradient Descent updates\n",
    "    '''\n",
    "    with tf.GradientTape() as t:\n",
    "        current_loss = loss(model(inputs), outputs)\n",
    "    # Compute the gradient of the cost function\n",
    "    dW, dB = t.gradient(current_loss, [model.W, model.b]) \n",
    "    # Update the parameters\n",
    "    model.W.assign_sub(learning_rate * dW)\n",
    "    model.b.assign_sub(learning_rate * dB)\n",
    "    \n",
    "def train(model, inputs, outputs, learning_rate = 0.1, epochs = 10):\n",
    "    ''' Train the model for the given number of epochs. Use batch gradient descent\n",
    "    '''\n",
    "    # Keep track of the histories of the paramters W and b\n",
    "    W_history, b_history = [], []\n",
    "    for epoch in range(epochs):\n",
    "        # Update the histories\n",
    "        W_history.append(model.W.numpy())\n",
    "        b_history.append(model.b.numpy())\n",
    "        # Compute the cost function\n",
    "        current_cost = loss(model(inputs), outputs)\n",
    "        # Update the parameters\n",
    "        update(model, inputs, outputs, learning_rate)\n",
    "        print('EPOCH: %r. Cost function = %r, W = %r, b = %r' %(epoch, current_cost.numpy(), model.W.numpy(), model.b.numpy()))\n",
    "    \n",
    "    return W_history, b_history\n",
    "\n",
    "def plot_parameters_history(W_history, b_history, W_true, b_true):\n",
    "    ''' Plot the history of the parameters as well as their true value \n",
    "    '''\n",
    "    epochs = len(W_history)\n",
    "    # There are various ways to plot multiple sets of data.\n",
    "    plt.plot(range(epochs), W_history, 'r',\n",
    "             range(epochs), b_history, 'b')\n",
    "    plt.plot([W_true]*epochs, 'r--',\n",
    "             [b_true]*epochs, 'b--')\n",
    "    plt.show()\n",
    "\n",
    "    "
   ]
  },
  {
   "cell_type": "code",
   "execution_count": 25,
   "metadata": {
    "collapsed": false
   },
   "outputs": [
    {
     "name": "stdout",
     "output_type": "stream",
     "text": [
      "EPOCH: 0. Cost function = 9.18766, W = 4.574404, b = 0.3886164\n",
      "EPOCH: 1. Cost function = 6.2053595, W = 4.2392626, b = 0.70170254\n",
      "EPOCH: 2. Cost function = 4.3165526, W = 3.9753149, b = 0.9538983\n",
      "EPOCH: 3. Cost function = 3.119689, W = 3.7674084, b = 1.157015\n",
      "EPOCH: 4. Cost function = 2.3609061, W = 3.6036215, b = 1.3205796\n",
      "EPOCH: 5. Cost function = 1.8796223, W = 3.4745731, b = 1.4522754\n",
      "EPOCH: 6. Cost function = 1.5742071, W = 3.372881, b = 1.5582969\n",
      "EPOCH: 7. Cost function = 1.3803062, W = 3.2927344, b = 1.6436381\n",
      "EPOCH: 8. Cost function = 1.257148, W = 3.2295592, b = 1.7123241\n",
      "EPOCH: 9. Cost function = 1.1788889, W = 3.1797545, b = 1.7675984\n",
      "EPOCH: 10. Cost function = 1.1291392, W = 3.1404846, b = 1.8120744\n",
      "EPOCH: 11. Cost function = 1.0974998, W = 3.1095166, b = 1.8478576\n",
      "EPOCH: 12. Cost function = 1.0773706, W = 3.0850918, b = 1.8766438\n",
      "EPOCH: 13. Cost function = 1.0645589, W = 3.0658247, b = 1.8997985\n",
      "EPOCH: 14. Cost function = 1.0564016, W = 3.0506241, b = 1.9184216\n",
      "EPOCH: 15. Cost function = 1.0512061, W = 3.0386298, b = 1.9333984\n",
      "EPOCH: 16. Cost function = 1.0478956, W = 3.0291638, b = 1.9454416\n",
      "EPOCH: 17. Cost function = 1.0457854, W = 3.0216923, b = 1.955125\n",
      "EPOCH: 18. Cost function = 1.0444404, W = 3.015794, b = 1.9629102\n",
      "EPOCH: 19. Cost function = 1.0435824, W = 3.011137, b = 1.9691688\n"
     ]
    },
    {
     "data": {
      "image/png": "[encoded data removed]",
      "text/plain": [
       "<Figure size 432x288 with 1 Axes>"
      ]
     },
     "metadata": {},
     "output_type": "display_data"
    }
   ],
   "source": [
    "# Let's train the model using the above methods\n",
    "\n",
    "model = Model()\n",
    "W_history, b_history = train(model, inputs, outputs, learning_rate=0.1, epochs=20)\n",
    "plot_parameters_history(W_history, b_history, TRUE_W, TRUE_B)"
   ]
  },
  {
   "cell_type": "code",
   "execution_count": null,
   "metadata": {
    "collapsed": true
   },
   "outputs": [],
   "source": [
    "### CCL: \n",
    "# In theory, this is pretty much all you need to use TensorFlow for your machine learning research.\n",
    "# In practice, particularly for neural networks, the higher level APIs like tf.keras will be much more convenient"
   ]
  }
 ],
 "metadata": {
  "kernelspec": {
   "display_name": "Python 3",
   "language": "python",
   "name": "python3"
  },
  "language_info": {
   "codemirror_mode": {
    "name": "ipython",
    "version": 3
   },
   "file_extension": ".py",
   "mimetype": "text/x-python",
   "name": "python",
   "nbconvert_exporter": "python",
   "pygments_lexer": "ipython3",
   "version": "3.6.7"
  }
 },
 "nbformat": 4,
 "nbformat_minor": 2
}
