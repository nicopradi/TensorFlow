{
 "cells": [
  {
   "cell_type": "code",
   "execution_count": 1,
   "metadata": {
    "collapsed": true
   },
   "outputs": [],
   "source": [
    "### Eager execution:\n",
    "\n",
    "# Creating and using Tensor\n",
    "# Using GPU acceleration\n",
    "# Datasets"
   ]
  },
  {
   "cell_type": "code",
   "execution_count": 2,
   "metadata": {
    "collapsed": false
   },
   "outputs": [
    {
     "name": "stderr",
     "output_type": "stream",
     "text": [
      "WARNING: Logging before flag parsing goes to stderr.\n",
      "W0830 17:02:35.616378 140736020308864 __init__.py:690] \n",
      "\n",
      "  TensorFlow's `tf-nightly` package will soon be updated to TensorFlow 2.0.\n",
      "\n",
      "  Please upgrade your code to TensorFlow 2.0:\n",
      "    * https://www.tensorflow.org/beta/guide/migration_guide\n",
      "\n",
      "  Or install the latest stable TensorFlow 1.X release:\n",
      "    * `pip install -U \"tensorflow==1.*\"`\n",
      "\n",
      "  Otherwise your code may be broken by the change.\n",
      "\n",
      "  \n"
     ]
    }
   ],
   "source": [
    "from __future__ import absolute_import, division, print_function\n",
    "\n",
    "# import TensorFlow\n",
    "import tensorflow as tf\n",
    "\n",
    "# enable eager execution\n",
    "# (more interactive front-end)\n",
    "tf.enable_eager_execution()"
   ]
  },
  {
   "cell_type": "code",
   "execution_count": 3,
   "metadata": {
    "collapsed": false
   },
   "outputs": [
    {
     "name": "stdout",
     "output_type": "stream",
     "text": [
      "tf.Tensor(3, shape=(), dtype=int32)\n",
      "tf.Tensor([4 6], shape=(2,), dtype=int32)\n",
      "tf.Tensor(25, shape=(), dtype=int32)\n",
      "tf.Tensor(6, shape=(), dtype=int32)\n",
      "tf.Tensor(b'aGVsbG8gd29ybGQ', shape=(), dtype=string)\n",
      "tf.Tensor(13, shape=(), dtype=int32)\n"
     ]
    }
   ],
   "source": [
    "### TENSOR\n",
    "# Tensor is a multi-dimensional array with a specific shape and data type\n",
    "# Tensor can be stored un GPU.\n",
    "# TF offers a lot of operations which take Tensor as input and ouput Tensor\n",
    "# These operations convert native Python data type\n",
    "\n",
    "print(tf.add(1, 2))\n",
    "print(tf.add([1, 2], [3, 4])) # column-wise\n",
    "print(tf.square(5))\n",
    "print(tf.reduce_sum([1, 2, 3])) # compute the sum of elements across dimensions \n",
    "print(tf.encode_base64('hello world')) # encode string into base64 format\n",
    "\n",
    "# Standard operators( +, -,  *, /) are also supported\n",
    "print(tf.square(2) + tf.square(3))"
   ]
  },
  {
   "cell_type": "code",
   "execution_count": 4,
   "metadata": {
    "collapsed": false
   },
   "outputs": [
    {
     "name": "stdout",
     "output_type": "stream",
     "text": [
      "Shape:  (1, 2)\n",
      "Data type <dtype: 'int32'>\n"
     ]
    }
   ],
   "source": [
    "x = tf.matmul([[1]], [[1, 2]]) # matrix multiplication (1, 1) * (1, 2)\n",
    "print('Shape: ', x.shape)\n",
    "print('Data type', x.dtype)"
   ]
  },
  {
   "cell_type": "code",
   "execution_count": 5,
   "metadata": {
    "collapsed": false
   },
   "outputs": [
    {
     "name": "stdout",
     "output_type": "stream",
     "text": [
      "TensorFlow converts numpy array into Tensor automatically: \n",
      "\n",
      "tf.Tensor(\n",
      "[[42. 42. 42.]\n",
      " [42. 42. 42.]\n",
      " [42. 42. 42.]], shape=(3, 3), dtype=float64)\n",
      "Similarly for numpy:  \n",
      "\n",
      "[[43. 43. 43.]\n",
      " [43. 43. 43.]\n",
      " [43. 43. 43.]]\n",
      "the .numpy() method converts a Tensor to a numpy array\n",
      "[[42. 42. 42.]\n",
      " [42. 42. 42.]\n",
      " [42. 42. 42.]]\n"
     ]
    }
   ],
   "source": [
    "# The differences between numpy arrays and Tensors are:\n",
    "# 1/ Tensors can make use of accelerator memory (GPU)\n",
    "# 2/ Tensors are IMMUTABLE\n",
    "\n",
    "# Convertion between numpy arrays and Tensors is automatic (and it is cheap(often same memory representation))\n",
    "\n",
    "import numpy as np\n",
    "\n",
    "# Create a numpy array\n",
    "ndarray = np.ones((3,3))\n",
    "\n",
    "print('TensorFlow converts numpy array into Tensor automatically: \\n')\n",
    "tensor = tf.multiply(ndarray, 42) # element-wise multiplication\n",
    "print(tensor)\n",
    "\n",
    "print('Similarly for numpy:  \\n')\n",
    "print(np.add(tensor, 1))\n",
    "\n",
    "print('the .numpy() method converts a Tensor to a numpy array')\n",
    "print(tensor.numpy())"
   ]
  },
  {
   "cell_type": "code",
   "execution_count": 6,
   "metadata": {
    "collapsed": false
   },
   "outputs": [
    {
     "name": "stdout",
     "output_type": "stream",
     "text": [
      "tf.Tensor(\n",
      "[[0.47963166 0.9232795  0.27804363]\n",
      " [0.24093306 0.05942643 0.17866504]\n",
      " [0.92106414 0.41756856 0.06134248]], shape=(3, 3), dtype=float32)\n",
      "\n",
      "GPU available:  False\n",
      "Is the tensor x on GPU #0 ? False\n"
     ]
    }
   ],
   "source": [
    "### GPU Acceleration\n",
    "# Many tensorflow operations can be accelerated by using GPU for computation(it is done automatically)\n",
    "\n",
    "x = tf.random_uniform((3, 3))\n",
    "print(x)\n",
    "\n",
    "print('\\nGPU available: ', tf.test.is_gpu_available())\n",
    "print('Is the tensor x on GPU #0 ?', x.device.endswith('GPU:0')) # x.device provide the string name of the device hosting the content of the tensor"
   ]
  },
  {
   "cell_type": "code",
   "execution_count": 7,
   "metadata": {
    "collapsed": false
   },
   "outputs": [
    {
     "name": "stdout",
     "output_type": "stream",
     "text": [
      "On CPU\n",
      "10 matmul duration:  0.27369070053100586\n",
      "GPU not available\n"
     ]
    }
   ],
   "source": [
    "# We can explicitely decide which device to execute an operation on (GPU, CPU)\n",
    "# This is called Explicit Device Placement\n",
    "\n",
    "import time\n",
    "\n",
    "def time_matmul(x):\n",
    "    ''' Compute the computational time for computing\n",
    "        X squared 10 times (matrix multiplication)\n",
    "    '''\n",
    "    t0 = time.time()\n",
    "    for iter in range(10):\n",
    "        tf.matmul(x, x)\n",
    "    duration = time.time() - t0\n",
    "    print('10 matmul duration: ', duration)\n",
    "    \n",
    "# Compare the running on CPU/ GPU if avaiable\n",
    "    \n",
    "# Force execution on CPU\n",
    "print('On CPU')\n",
    "with tf.device('CPU:0'):\n",
    "    x = tf.random_uniform((1000, 1000))\n",
    "    assert x.device.endswith('CPU:0')\n",
    "    time_matmul(x)\n",
    "    \n",
    "# Force execution on GPU if available\n",
    "if tf.test.is_gpu_available():\n",
    "    print('On GPU')\n",
    "    with tf.device('GPU:0'):\n",
    "        x = tf.random_uniform((1000, 1000))\n",
    "        assert x.device.endswith('GPU:0')\n",
    "        time_matmul(0)\n",
    "else:\n",
    "    print('GPU not available')"
   ]
  },
  {
   "cell_type": "code",
   "execution_count": 8,
   "metadata": {
    "collapsed": true
   },
   "outputs": [],
   "source": [
    "### Datasets \n",
    "# 1/ How to create dataset\n",
    "# 2/ Build pipeline to feed data to a model"
   ]
  },
  {
   "cell_type": "code",
   "execution_count": 9,
   "metadata": {
    "collapsed": false
   },
   "outputs": [],
   "source": [
    "# Create a source dataset\n",
    "\n",
    "# Exist many other methods for creating Dataset object\n",
    "# 1st method\n",
    "ds_tensors = tf.data.Dataset.from_tensor_slices([1, 2, 3, 4, 5, 6])\n",
    "\n",
    "# 2nd method\n",
    "# Crate a CSV file\n",
    "import tempfile\n",
    "_, filename = tempfile.mkstemp() # Create a temporary file\n",
    "\n",
    "with open(filename, 'w') as f:\n",
    "    f.write('''Line 1\n",
    "    Line 2\n",
    "    Line 3\n",
    "    ''')\n",
    "\n",
    "ds_file = tf.data.TextLineDataset(filename)"
   ]
  },
  {
   "cell_type": "code",
   "execution_count": 10,
   "metadata": {
    "collapsed": false
   },
   "outputs": [],
   "source": [
    "# Now we can apply transformation to the source dataset\n",
    "\n",
    "# map(): This transformation applies f() to each element of this dataset,\n",
    "# and returns a new dataset containing the transformed elements,\n",
    "# in the same order as they appeared in the input.\n",
    "\n",
    "# shuffle(buffer_size): Randomly shuffles the elements of this dataset. \n",
    "# This dataset fills a buffer with buffer_size elements, then randomly samples elements from this buffer,\n",
    "# replacing the selected elements with new elements.\n",
    "\n",
    "# batch(batch_size): Combines consecutive elements of this dataset into batches.\n",
    "# The tensors in the resulting element will have an additional outer dimension, which will be batch_size \n",
    "\n",
    "ds_tensors = ds_tensors.map(tf.square).shuffle(2).batch(2)\n",
    "\n",
    "ds_file = ds_file.batch(2)"
   ]
  },
  {
   "cell_type": "code",
   "execution_count": 11,
   "metadata": {
    "collapsed": false
   },
   "outputs": [
    {
     "name": "stdout",
     "output_type": "stream",
     "text": [
      "Elements in ds_tensor: \n",
      "tf.Tensor([4 1], shape=(2,), dtype=int32)\n",
      "tf.Tensor([ 9 25], shape=(2,), dtype=int32)\n",
      "tf.Tensor([36 16], shape=(2,), dtype=int32)\n",
      "\n",
      " Elements in ds_file: \n",
      "tf.Tensor([b'Line 1' b'    Line 2'], shape=(2,), dtype=string)\n",
      "tf.Tensor([b'    Line 3' b'    '], shape=(2,), dtype=string)\n"
     ]
    }
   ],
   "source": [
    "# Iterate over the source dataset \n",
    "# When eager execution is enabled Dataset objects support iteration.\n",
    "\n",
    "print('Elements in ds_tensor: ')\n",
    "for elem in ds_tensors:\n",
    "    print(elem)\n",
    "    \n",
    "print('\\n Elements in ds_file: ')\n",
    "for elem in ds_file:\n",
    "    print(elem)"
   ]
  },
  {
   "cell_type": "code",
   "execution_count": null,
   "metadata": {
    "collapsed": true
   },
   "outputs": [],
   "source": []
  }
 ],
 "metadata": {
  "kernelspec": {
   "display_name": "Python 3",
   "language": "python",
   "name": "python3"
  },
  "language_info": {
   "codemirror_mode": {
    "name": "ipython",
    "version": 3
   },
   "file_extension": ".py",
   "mimetype": "text/x-python",
   "name": "python",
   "nbconvert_exporter": "python",
   "pygments_lexer": "ipython3",
   "version": "3.6.7"
  }
 },
 "nbformat": 4,
 "nbformat_minor": 2
}
