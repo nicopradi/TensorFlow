{
 "cells": [
  {
   "cell_type": "code",
   "execution_count": 1,
   "metadata": {
    "collapsed": true
   },
   "outputs": [],
   "source": [
    "### Automatic differentiation and gradient tape"
   ]
  },
  {
   "cell_type": "code",
   "execution_count": 2,
   "metadata": {
    "collapsed": false
   },
   "outputs": [
    {
     "name": "stderr",
     "output_type": "stream",
     "text": [
      "WARNING: Logging before flag parsing goes to stderr.\n",
      "W0902 15:13:49.946985 140735803462528 __init__.py:690] \n",
      "\n",
      "  TensorFlow's `tf-nightly` package will soon be updated to TensorFlow 2.0.\n",
      "\n",
      "  Please upgrade your code to TensorFlow 2.0:\n",
      "    * https://www.tensorflow.org/beta/guide/migration_guide\n",
      "\n",
      "  Or install the latest stable TensorFlow 1.X release:\n",
      "    * `pip install -U \"tensorflow==1.*\"`\n",
      "\n",
      "  Otherwise your code may be broken by the change.\n",
      "\n",
      "  \n"
     ]
    }
   ],
   "source": [
    "from __future__ import absolute_import, division, print_function, unicode_literals\n",
    "\n",
    "import tensorflow as tf\n",
    "tf.enable_eager_execution()"
   ]
  },
  {
   "cell_type": "code",
   "execution_count": 3,
   "metadata": {
    "collapsed": true
   },
   "outputs": [],
   "source": [
    "# TF provides Gradient tape which allows you to compute the gradient\n",
    "# with respect to the input variables automatically\n",
    "\n",
    "# TF records all the computation that happend inside a 'Gradient tape'\n",
    "# and compute the gradient by using chain rule derivatives"
   ]
  },
  {
   "cell_type": "code",
   "execution_count": 10,
   "metadata": {
    "collapsed": false
   },
   "outputs": [
    {
     "name": "stdout",
     "output_type": "stream",
     "text": [
      "x:  tf.Tensor(\n",
      "[[1. 1.]\n",
      " [1. 1.]], shape=(2, 2), dtype=float32)\n",
      "y:  tf.Tensor(4.0, shape=(), dtype=float32)\n",
      "z:  tf.Tensor(16.0, shape=(), dtype=float32)\n",
      "------------------------------\n",
      "dz_dx:  tf.Tensor(\n",
      "[[8. 8.]\n",
      " [8. 8.]], shape=(2, 2), dtype=float32)\n",
      "------------------------------\n"
     ]
    },
    {
     "ename": "RuntimeError",
     "evalue": "GradientTape.gradient can only be called once on non-persistent tapes.",
     "output_type": "error",
     "traceback": [
      "\u001b[0;31m---------------------------------------------------------------------------\u001b[0m",
      "\u001b[0;31mRuntimeError\u001b[0m                              Traceback (most recent call last)",
      "\u001b[0;32m<ipython-input-10-1860401b4b37>\u001b[0m in \u001b[0;36m<module>\u001b[0;34m()\u001b[0m\n\u001b[1;32m     24\u001b[0m \u001b[0;34m\u001b[0m\u001b[0m\n\u001b[1;32m     25\u001b[0m \u001b[0;31m# Can also get the gradient of 'intermediate' value\u001b[0m\u001b[0;34m\u001b[0m\u001b[0;34m\u001b[0m\u001b[0;34m\u001b[0m\u001b[0m\n\u001b[0;32m---> 26\u001b[0;31m \u001b[0mdz_dy\u001b[0m \u001b[0;34m=\u001b[0m \u001b[0mt\u001b[0m\u001b[0;34m.\u001b[0m\u001b[0mgradient\u001b[0m\u001b[0;34m(\u001b[0m\u001b[0mz\u001b[0m\u001b[0;34m,\u001b[0m \u001b[0my\u001b[0m\u001b[0;34m)\u001b[0m\u001b[0;34m\u001b[0m\u001b[0;34m\u001b[0m\u001b[0m\n\u001b[0m\u001b[1;32m     27\u001b[0m \u001b[0mprint\u001b[0m\u001b[0;34m(\u001b[0m\u001b[0;34m'dz_dy: '\u001b[0m\u001b[0;34m,\u001b[0m \u001b[0mdz_dy\u001b[0m\u001b[0;34m)\u001b[0m\u001b[0;34m\u001b[0m\u001b[0;34m\u001b[0m\u001b[0m\n",
      "\u001b[0;32m/Users/nicolas/anaconda/lib/python3.6/site-packages/tensorflow_core/python/eager/backprop.py\u001b[0m in \u001b[0;36mgradient\u001b[0;34m(self, target, sources, output_gradients, unconnected_gradients)\u001b[0m\n\u001b[1;32m    964\u001b[0m     \"\"\"\n\u001b[1;32m    965\u001b[0m     \u001b[0;32mif\u001b[0m \u001b[0mself\u001b[0m\u001b[0;34m.\u001b[0m\u001b[0m_tape\u001b[0m \u001b[0;32mis\u001b[0m \u001b[0;32mNone\u001b[0m\u001b[0;34m:\u001b[0m\u001b[0;34m\u001b[0m\u001b[0;34m\u001b[0m\u001b[0m\n\u001b[0;32m--> 966\u001b[0;31m       raise RuntimeError(\"GradientTape.gradient can only be called once on \"\n\u001b[0m\u001b[1;32m    967\u001b[0m                          \"non-persistent tapes.\")\n\u001b[1;32m    968\u001b[0m     \u001b[0;32mif\u001b[0m \u001b[0mself\u001b[0m\u001b[0;34m.\u001b[0m\u001b[0m_recording\u001b[0m\u001b[0;34m:\u001b[0m\u001b[0;34m\u001b[0m\u001b[0;34m\u001b[0m\u001b[0m\n",
      "\u001b[0;31mRuntimeError\u001b[0m: GradientTape.gradient can only be called once on non-persistent tapes."
     ]
    }
   ],
   "source": [
    "# Example 1: \n",
    "\n",
    "x = tf.ones((2, 2))\n",
    "\n",
    "# Starts the Gradient Tape recording\n",
    "with tf.GradientTape() as t:\n",
    "    t.watch(x) # Ensures that the input x is being traced by this Gradient tape. (tf.Variable are automatically traced)\n",
    "    y = tf.reduce_sum(x)\n",
    "    z = tf.multiply(y, y)\n",
    "\n",
    "print('x: ', x)\n",
    "print('y: ', y)\n",
    "print('z: ', z)\n",
    "print('-'*30)\n",
    "\n",
    "# Compute the derivative of z with respect to x\n",
    "dz_dx = t.gradient(z, x)\n",
    "print('dz_dx: ', dz_dx)\n",
    "print('-'*30)  \n",
    "# Make sur that the derivative is correct\n",
    "for i in range(2):\n",
    "    for j in range(2):\n",
    "        assert dz_dx[i][j].numpy() == 8.0\n",
    "    "
   ]
  },
  {
   "cell_type": "code",
   "execution_count": 12,
   "metadata": {
    "collapsed": false
   },
   "outputs": [
    {
     "name": "stdout",
     "output_type": "stream",
     "text": [
      "dz_dy:  tf.Tensor(8.0, shape=(), dtype=float32)\n"
     ]
    }
   ],
   "source": [
    "# Example 2: \n",
    "\n",
    "x = tf.ones((2, 2))\n",
    "\n",
    "# Starts the Gradient Tape recording\n",
    "with tf.GradientTape() as t:\n",
    "    t.watch(x) # Ensures that the input x is being traced by this Gradient tape. (tf.Variable are automatically traced)\n",
    "    y = tf.reduce_sum(x)\n",
    "    z = tf.multiply(y, y)\n",
    "    \n",
    "# Can also get the gradient of 'intermediate' value: y\n",
    "dz_dy = t.gradient(z, y)\n",
    "print('dz_dy: ', dz_dy)\n",
    "assert dz_dy.numpy() == 8.0"
   ]
  },
  {
   "cell_type": "code",
   "execution_count": 16,
   "metadata": {
    "collapsed": false
   },
   "outputs": [
    {
     "name": "stdout",
     "output_type": "stream",
     "text": [
      "dz_dy:  tf.Tensor(18.0, shape=(), dtype=float32)\n",
      "dz_dx:  tf.Tensor(108.0, shape=(), dtype=float32)\n"
     ]
    }
   ],
   "source": [
    "# By default, the resources held by a GradientTape are released as soon as GradientTape.gradient() method is called.\n",
    "# To compute multiple gradients over the same computation, create a persistent gradient tape.\n",
    "# This allows multiple calls to the gradient() method\n",
    "\n",
    "# Example 3: \n",
    "\n",
    "x = tf.constant(3.0)\n",
    "\n",
    "# Starts the Gradient Tape recording\n",
    "with tf.GradientTape(persistent = True) as t:\n",
    "    t.watch(x) # Ensures that the input x is being traced by this Gradient tape. (tf.Variable are automatically traced)\n",
    "    y = x * x\n",
    "    z = y * y\n",
    "\n",
    "# Compute the gradient\n",
    "dz_dy = t.gradient(z, y)\n",
    "dz_dx = t.gradient(z, x)\n",
    "print('dz_dy: ', dz_dy)\n",
    "print('dz_dx: ', dz_dx)\n",
    "\n",
    "# Drop the reference\n",
    "del t"
   ]
  },
  {
   "cell_type": "code",
   "execution_count": 20,
   "metadata": {
    "collapsed": false
   },
   "outputs": [],
   "source": [
    "# Example 4: Combine Gradient Tape with python method\n",
    "\n",
    "def f(x, y):\n",
    "    ''' Apply a random function on x and y\n",
    "    '''\n",
    "    output = 1.0\n",
    "    for i in range(y):\n",
    "        if (i>1) and (i<5):\n",
    "            output = tf.multiply(output, x) # output is a new tensor for each call the f(x, y)\n",
    "    return output\n",
    "\n",
    "def compute_gradient(x, y):\n",
    "    ''' Compute the gradient of the function f on x\n",
    "    '''\n",
    "    with tf.GradientTape() as t:\n",
    "        t.watch(x)\n",
    "        output = f(x, y)\n",
    "    return t.gradient(output, x)\n",
    "\n",
    "x = tf.convert_to_tensor(2.0)\n",
    "\n",
    "assert compute_gradient(x, 6).numpy() == 12.0\n",
    "assert compute_gradient(x, 5).numpy() == 12.0\n",
    "assert compute_gradient(x, 4).numpy() == 4.0 "
   ]
  },
  {
   "cell_type": "code",
   "execution_count": 25,
   "metadata": {
    "collapsed": false
   },
   "outputs": [
    {
     "name": "stdout",
     "output_type": "stream",
     "text": [
      "x:  <tf.Variable 'Variable:0' shape=() dtype=float32, numpy=1.0>\n",
      "------------------------------\n",
      "dy_dx:  tf.Tensor(3.0, shape=(), dtype=float32)\n",
      "dy2_dx2:  tf.Tensor(6.0, shape=(), dtype=float32)\n"
     ]
    }
   ],
   "source": [
    "# We can also compute higher order gradient by stacking GradientTape() context\n",
    "\n",
    "x = tf.Variable(1.0) # Variable so that it is automatically watched\n",
    "print('x: ', x)\n",
    "print('-'*30)\n",
    "\n",
    "with tf.GradientTape() as t:\n",
    "    with tf.GradientTape() as t2:\n",
    "        y = x * x * x \n",
    "    dy_dx = t2.gradient(y, x)\n",
    "dy2_dx2 = t.gradient(dy_dx, x)\n",
    "\n",
    "print('dy_dx: ', dy_dx)\n",
    "print('dy2_dx2: ', dy2_dx2)\n",
    "    "
   ]
  },
  {
   "cell_type": "code",
   "execution_count": null,
   "metadata": {
    "collapsed": true
   },
   "outputs": [],
   "source": []
  }
 ],
 "metadata": {
  "kernelspec": {
   "display_name": "Python 3",
   "language": "python",
   "name": "python3"
  },
  "language_info": {
   "codemirror_mode": {
    "name": "ipython",
    "version": 3
   },
   "file_extension": ".py",
   "mimetype": "text/x-python",
   "name": "python",
   "nbconvert_exporter": "python",
   "pygments_lexer": "ipython3",
   "version": "3.6.7"
  }
 },
 "nbformat": 4,
 "nbformat_minor": 2
}
