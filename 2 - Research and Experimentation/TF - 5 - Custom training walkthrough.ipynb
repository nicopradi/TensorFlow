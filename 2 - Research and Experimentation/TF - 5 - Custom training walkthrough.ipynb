{
 "cells": [
  {
   "cell_type": "code",
   "execution_count": 87,
   "metadata": {
    "collapsed": true
   },
   "outputs": [],
   "source": [
    "### Application: Train a model to classify Iris flowers by species\n",
    "#  1. Build a model\n",
    "#  2. Train this model\n",
    "#  3. Use the model to make predictions about unknown data.\n",
    "\n",
    "# We're going to classify Iris flowers based on the length and width measurements of their sepals and petals.\n",
    "# A more complex approach would be to take picture of Itris flowers as input (CNN)\n",
    "# The Iris flowers contain more that 300 species, but we will only consider the 3 following ones: \n",
    "# Iris setosa\n",
    "# Iris virginica\n",
    "# Iris versicolor\n"
   ]
  },
  {
   "cell_type": "code",
   "execution_count": 88,
   "metadata": {
    "collapsed": false
   },
   "outputs": [
    {
     "name": "stdout",
     "output_type": "stream",
     "text": [
      "TF version:  1.15.0-dev20190821\n",
      "Enable eager execution:  True\n"
     ]
    }
   ],
   "source": [
    "from __future__ import absolute_import, division, print_function, unicode_literals\n",
    "\n",
    "# Import helper libraries\n",
    "import os\n",
    "import matplotlib.pyplot as plt\n",
    "\n",
    "import tensorflow as tf\n",
    "\n",
    "# About eager excecution: \n",
    "\n",
    "# it is an imperative programming environment that evaluates operations immediately,\n",
    "# without building graphs: operations return concrete values instead of constructing a computational graph\n",
    "# to run later.\n",
    "tf.enable_eager_execution()\n",
    "\n",
    "# Check TF version and eager execution\n",
    "print('TF version: ', tf.__version__)\n",
    "print('Enable eager execution: ', tf.executing_eagerly())"
   ]
  },
  {
   "cell_type": "code",
   "execution_count": 89,
   "metadata": {
    "collapsed": false
   },
   "outputs": [
    {
     "name": "stdout",
     "output_type": "stream",
     "text": [
      "Local copy of the dataset:  /Users/nicolas/.keras/datasets/iris_training.csv\n"
     ]
    }
   ],
   "source": [
    "# 1/ Import and parse the data sets.\n",
    "\n",
    "# Import the dataset of 120 Iris flowers with sepal and pepal measurements\n",
    "\n",
    "dataset_url = 'https://storage.googleapis.com/download.tensorflow.org/data/iris_training.csv'\n",
    "# Downloads a file from a URL\n",
    "dataset_file = tf.keras.utils.get_file(fname = os.path.basename(dataset_url), # Name of the file\n",
    "                                       origin = dataset_url) # URL\n",
    "\n",
    "print('Local copy of the dataset: ', dataset_file)\n"
   ]
  },
  {
   "cell_type": "code",
   "execution_count": 90,
   "metadata": {
    "collapsed": false
   },
   "outputs": [
    {
     "name": "stdout",
     "output_type": "stream",
     "text": [
      "120,4,setosa,versicolor,virginica\r\n",
      "6.4,2.8,5.6,2.2,2\r\n",
      "5.0,2.3,3.3,1.0,1\r\n",
      "4.9,2.5,4.5,1.7,2\r\n",
      "4.9,3.1,1.5,0.1,0\r\n"
     ]
    }
   ],
   "source": [
    "# Let's explore the first entries of the dataset(csv file)\n",
    "!head -n5 {dataset_file}\n",
    "\n",
    "# From the header: 120 examples, each of them have 4 features as well as 3 possible labels\n",
    "# From the rows: The first 4 fields are features, the last field is the label value (value we want to predict)"
   ]
  },
  {
   "cell_type": "code",
   "execution_count": 91,
   "metadata": {
    "collapsed": false
   },
   "outputs": [
    {
     "name": "stdout",
     "output_type": "stream",
     "text": [
      "Features:  ['sepal_length', 'sepal_width', 'petal_length', 'petal_width']\n",
      "Label/Output:  species\n",
      "Species/Class names:  ['Iris setosa', 'Iris versicolor', 'Iris virginica']\n"
     ]
    }
   ],
   "source": [
    "# Let's define create data structures to store the dataset in a more eligible way\n",
    "\n",
    "column_names = ['sepal_length', 'sepal_width', 'petal_length', 'petal_width', 'species']\n",
    "class_names = ['Iris setosa', 'Iris versicolor', 'Iris virginica']\n",
    "\n",
    "features_names = column_names[:-1]\n",
    "label_name = column_names[-1]\n",
    "\n",
    "print('Features: ', features_names)\n",
    "print('Label/Output: ', label_name)\n",
    "print('Species/Class names: ', class_names)\n",
    "\n",
    "# Each label is associated with a string name:\n",
    "# 0: Iris setosa\n",
    "# 1: Iris versicolor\n",
    "# 2: Iris virginica"
   ]
  },
  {
   "cell_type": "code",
   "execution_count": 92,
   "metadata": {
    "collapsed": false
   },
   "outputs": [],
   "source": [
    "# In TF there exist many method for loading a dataset into a model.\n",
    "# Let's transform the CSV file into a tf Database\n",
    "\n",
    "batch_size = 32\n",
    "\n",
    "dataset = tf.contrib.data.make_csv_dataset(dataset_file,\n",
    "                                           batch_size,\n",
    "                                           column_names = column_names,\n",
    "                                           label_name = label_name,\n",
    "                                           num_epochs = 1) # specifying the number of times this dataset is repeated\n",
    "\n",
    "# A dataset, where each element is a (features, labels) tuple that corresponds to a batch of batch_size CSV rows.\n",
    "# The features dictionary maps feature column names to Tensors containing the corresponding column data,\n",
    "# and labels is a Tensor containing the column data for the label column specified by label_name."
   ]
  },
  {
   "cell_type": "code",
   "execution_count": 93,
   "metadata": {
    "collapsed": false
   },
   "outputs": [
    {
     "name": "stdout",
     "output_type": "stream",
     "text": [
      "Features of the first batch:  OrderedDict([('sepal_length', <tf.Tensor: id=95276, shape=(32,), dtype=float32, numpy=\n",
      "array([5.7, 7.7, 5.8, 6.5, 5.9, 7.3, 4.9, 4.4, 4.6, 5.1, 6.8, 5. , 4.6,\n",
      "       7.2, 4.9, 4.4, 6.3, 7. , 6. , 6.7, 5.3, 6.3, 6.2, 6.4, 5.6, 6. ,\n",
      "       5.4, 5.6, 5.5, 7.2, 5.1, 6.4], dtype=float32)>), ('sepal_width', <tf.Tensor: id=95277, shape=(32,), dtype=float32, numpy=\n",
      "array([3.8, 2.8, 2.6, 3. , 3. , 2.9, 3. , 2.9, 3.1, 3.5, 2.8, 3.5, 3.6,\n",
      "       3.6, 3.1, 3. , 2.3, 3.2, 2.7, 3. , 3.7, 2.7, 3.4, 2.8, 2.7, 3. ,\n",
      "       3.7, 2.9, 3.5, 3. , 3.8, 3.2], dtype=float32)>), ('petal_length', <tf.Tensor: id=95274, shape=(32,), dtype=float32, numpy=\n",
      "array([1.7, 6.7, 4. , 5.2, 5.1, 6.3, 1.4, 1.4, 1.5, 1.4, 4.8, 1.6, 1. ,\n",
      "       6.1, 1.5, 1.3, 4.4, 4.7, 5.1, 5.2, 1.5, 4.9, 5.4, 5.6, 4.2, 4.8,\n",
      "       1.5, 3.6, 1.3, 5.8, 1.9, 4.5], dtype=float32)>), ('petal_width', <tf.Tensor: id=95275, shape=(32,), dtype=float32, numpy=\n",
      "array([0.3, 2. , 1.2, 2. , 1.8, 1.8, 0.2, 0.2, 0.2, 0.3, 1.4, 0.6, 0.2,\n",
      "       2.5, 0.1, 0.2, 1.3, 1.4, 1.6, 2.3, 0.2, 1.8, 2.3, 2.2, 1.3, 1.8,\n",
      "       0.2, 1.3, 0.2, 1.6, 0.4, 1.5], dtype=float32)>)])\n",
      "------------------------------\n",
      "Labels:  tf.Tensor([0 2 1 2 2 2 0 0 0 0 1 0 0 2 0 0 1 1 1 2 0 2 2 2 1 2 0 1 0 2 0 1], shape=(32,), dtype=int32)\n"
     ]
    }
   ],
   "source": [
    "# Let's explore the dataset\n",
    "# the dataset are iterable\n",
    "\n",
    "# The 1st element contains the training examples in the 1st mini-batch\n",
    "features, labels = next(iter(dataset))\n",
    "\n",
    "print('Features of the first batch: ', features)\n",
    "print('-'*30)\n",
    "print('Labels: ', labels)"
   ]
  },
  {
   "cell_type": "code",
   "execution_count": 94,
   "metadata": {
    "collapsed": false
   },
   "outputs": [
    {
     "data": {
      "image/png": "[encoded data removed]",
      "text/plain": [
       "<Figure size 432x288 with 1 Axes>"
      ]
     },
     "metadata": {},
     "output_type": "display_data"
    }
   ],
   "source": [
    "# Let's plot two features against each other: 'petal_length' and 'sepal_length'\n",
    "\n",
    "# Mini-batch 1\n",
    "plt.scatter(features['petal_length'].numpy(), features['sepal_length'].numpy(),\n",
    "            c = labels.numpy(), # pass colors as integers\n",
    "            cmap = 'viridis') # color map\n",
    "\n",
    "plt.xlabel('Petal length')\n",
    "plt.ylabel('Sepal length')\n",
    "plt.show()\n",
    "\n",
    "# We can already observe some clusters/pattern according to the flower class"
   ]
  },
  {
   "cell_type": "code",
   "execution_count": 95,
   "metadata": {
    "collapsed": false
   },
   "outputs": [],
   "source": [
    "# To simplify the model building step, let's create a method to stack the features of each training example together\n",
    "# So that the input is as shape (batch size x nb features)\n",
    "\n",
    "def stack_features(features, labels):\n",
    "    ''' Transform a dictionary of features into a single list of features.\n",
    "    \n",
    "        features          dictionary of features \n",
    "        labels            labels of the current mini batch (list of integers)\n",
    "    '''\n",
    "    features = tf.stack(list(features.values()), axis = 1)\n",
    "    return features, labels\n",
    "                        \n",
    "# Transform the datasets         \n",
    "dataset = dataset.map(stack_features) # Apply stack_features to each element of this dataset (mini-batch)\n",
    "    "
   ]
  },
  {
   "cell_type": "code",
   "execution_count": 96,
   "metadata": {
    "collapsed": false
   },
   "outputs": [
    {
     "name": "stdout",
     "output_type": "stream",
     "text": [
      "Shape input:  (32, 4)\n",
      "First 10 examples in the training set:  tf.Tensor(\n",
      "[[5.7 3.8 1.7 0.3]\n",
      " [7.7 2.8 6.7 2. ]\n",
      " [5.8 2.6 4.  1.2]\n",
      " [6.5 3.  5.2 2. ]\n",
      " [5.9 3.  5.1 1.8]\n",
      " [7.3 2.9 6.3 1.8]\n",
      " [4.9 3.  1.4 0.2]\n",
      " [4.4 2.9 1.4 0.2]\n",
      " [4.6 3.1 1.5 0.2]\n",
      " [5.1 3.5 1.4 0.3]], shape=(10, 4), dtype=float32)\n",
      "------------------------------\n",
      "First 10 classes in the training set:  tf.Tensor([0 2 1 2 2 2 0 0 0 0], shape=(10,), dtype=int32)\n"
     ]
    }
   ],
   "source": [
    "# Let's look at the first entries in database\n",
    "\n",
    "features, labels = next(iter((dataset)))\n",
    "\n",
    "print('Shape input: ', features.shape)\n",
    "print('First 10 examples in the training set: ', features[:10]) # (10 x 4)\n",
    "print('-'*30)\n",
    "print('First 10 classes in the training set: ', labels[:10]) # (10 x 1)"
   ]
  },
  {
   "cell_type": "code",
   "execution_count": 97,
   "metadata": {
    "collapsed": false
   },
   "outputs": [
    {
     "name": "stdout",
     "output_type": "stream",
     "text": [
      "Predictions on the first 10 training examples:  tf.Tensor(\n",
      "[[-6.0649395  -0.6254371   4.2381067 ]\n",
      " [-7.2500014  -0.8103765   3.1136494 ]\n",
      " [-5.6045785  -0.6290287   3.0504935 ]\n",
      " [-6.212448   -0.5489376   2.9030764 ]\n",
      " [-5.51375    -0.3151517   2.4465847 ]\n",
      " [-6.8439665  -0.68653184  3.0212684 ]\n",
      " [-5.267942   -0.6531754   3.6416938 ]\n",
      " [-4.64526    -0.47404915  3.2368684 ]\n",
      " [-4.8305497  -0.46050772  3.3794801 ]\n",
      " [-5.467677   -0.5505314   3.848291  ]], shape=(10, 3), dtype=float32)\n"
     ]
    }
   ],
   "source": [
    "### 2/ Select the type of model for the problem\n",
    "# We'll use a NN with 2 hidden layer\n",
    "\n",
    "# The TensorFlow tf.keras API is the preferred way to create models and layers.\n",
    "# The tf.keras.Sequential model is a linear stack of layers. Its constructor takes a list of layer instances\n",
    "\n",
    "# FC(10) -> ReLU -> FC(10) -> ReLU -> FC(3)\n",
    "model_NN = tf.keras.Sequential([tf.keras.layers.Dense(10, activation = tf.nn.relu, input_shape = (4,)), # The layer will take as input arrays of shape (*, 4) and output arrays of shape (*, 10)\n",
    "                                tf.keras.layers.Dense(10, activation = tf.nn.relu),\n",
    "                                tf.keras.layers.Dense(3)])\n",
    "\n",
    "# Let's check the prediction of the untrained model on the first training example\n",
    "predictions = model_NN(features[:10])\n",
    "print('Predictions on the first 10 training examples: ', predictions)"
   ]
  },
  {
   "cell_type": "code",
   "execution_count": 98,
   "metadata": {
    "collapsed": false
   },
   "outputs": [
    {
     "name": "stdout",
     "output_type": "stream",
     "text": [
      "Predictions on the first 10 training examples:  tf.Tensor(\n",
      "[[3.32727141e-05 7.66362157e-03 9.92303133e-01]\n",
      " [3.09464922e-05 1.93778295e-02 9.80591238e-01]\n",
      " [1.69923194e-04 2.46097185e-02 9.75220382e-01]\n",
      " [1.06558000e-04 3.07055824e-02 9.69187856e-01]\n",
      " [3.28186230e-04 5.94077297e-02 9.40264046e-01]\n",
      " [5.07032564e-05 2.39428356e-02 9.76006508e-01]\n",
      " [1.33245820e-04 1.34530580e-02 9.86413717e-01]\n",
      " [3.68283567e-04 2.38625109e-02 9.75769222e-01]\n",
      " [2.66120333e-04 2.10359991e-02 9.78697836e-01]\n",
      " [8.88755676e-05 1.21414745e-02 9.87769663e-01]], shape=(10, 3), dtype=float32)\n",
      "------------------------------\n",
      "Predicted class on the first 10 training examples:  tf.Tensor([2 2 2 2 2 2 2 2 2 2], shape=(10,), dtype=int64)\n",
      "Actual class of the first 10 training examples:  tf.Tensor([0 2 1 2 2 2 0 0 0 0], shape=(10,), dtype=int32)\n"
     ]
    }
   ],
   "source": [
    "# Let's use softmax activation function to convert the output to probabilities\n",
    "predictions = tf.nn.softmax(model_NN(features[:10]))\n",
    "print('Predictions on the first 10 training examples: ', predictions)\n",
    "\n",
    "# Let's take the argmax of each prediction to get the corresponding class index\n",
    "print('-'*30)\n",
    "print('Predicted class on the first 10 training examples: ', tf.argmax(predictions, axis=1))\n",
    "print('Actual class of the first 10 training examples: ', labels[:10])"
   ]
  },
  {
   "cell_type": "code",
   "execution_count": 99,
   "metadata": {
    "collapsed": false
   },
   "outputs": [
    {
     "name": "stdout",
     "output_type": "stream",
     "text": [
      "Cost function of the untrained model:  4.64447\n"
     ]
    }
   ],
   "source": [
    "### 3/ Train the model\n",
    "# Define the loss function\n",
    "\n",
    "def loss(model, X, Y):\n",
    "    ''' Compute the loss function of the model according to the cross-entropy formula\n",
    "    '''\n",
    "    predictions = model(X)\n",
    "    loss = tf.losses.sparse_softmax_cross_entropy(labels = Y, logits = predictions) # -sum(Y*log(predictions) )\n",
    "    return loss\n",
    "\n",
    "# Compute the loss of the untrained model\n",
    "l = loss(model_NN, features, labels)\n",
    "print('Cost function of the untrained model: ', l.numpy())"
   ]
  },
  {
   "cell_type": "code",
   "execution_count": 100,
   "metadata": {
    "collapsed": false
   },
   "outputs": [
    {
     "name": "stdout",
     "output_type": "stream",
     "text": [
      "Cost function of the untrained model:  4.64447\n",
      "Gradient of the untrained model:  [<tf.Tensor: id=95536, shape=(4, 10), dtype=float32, numpy=\n",
      "array([[ 0.0000000e+00,  0.0000000e+00,  2.2423170e+00,  1.7622962e+00,\n",
      "         1.3015466e+00,  2.4711764e+00,  7.1712542e-01, -3.0758295e+00,\n",
      "         3.6150450e-03, -5.9100487e-03],\n",
      "       [ 0.0000000e+00,  0.0000000e+00,  1.3351442e+00,  1.1192100e+00,\n",
      "         8.1600636e-01,  1.4621854e+00,  5.0482416e-01, -1.7958728e+00,\n",
      "         1.4933650e-03, -3.9958935e-03],\n",
      "       [ 0.0000000e+00,  0.0000000e+00,  9.9815434e-01,  6.5582788e-01,\n",
      "         5.1746392e-01,  1.1178914e+00,  1.8325503e-01, -1.4674596e+00,\n",
      "         3.1573479e-03, -1.6860926e-03],\n",
      "       [ 0.0000000e+00,  0.0000000e+00,  2.4943194e-01,  1.4563921e-01,\n",
      "         1.2155946e-01,  2.8428742e-01,  2.5854066e-02, -3.8364422e-01,\n",
      "         1.1423369e-03, -2.8971618e-04]], dtype=float32)>, <tf.Tensor: id=95535, shape=(10,), dtype=float32, numpy=\n",
      "array([ 0.0000000e+00,  0.0000000e+00,  4.1637096e-01,  3.3981720e-01,\n",
      "        2.4820945e-01,  4.5814407e-01,  1.4619841e-01, -5.6722379e-01,\n",
      "        5.3334469e-04, -1.1434108e-03], dtype=float32)>, <tf.Tensor: id=95533, shape=(10, 10), dtype=float32, numpy=\n",
      "array([[ 0.00000000e+00,  0.00000000e+00,  0.00000000e+00,\n",
      "         0.00000000e+00,  0.00000000e+00,  0.00000000e+00,\n",
      "         0.00000000e+00,  0.00000000e+00,  0.00000000e+00,\n",
      "         0.00000000e+00],\n",
      "       [ 0.00000000e+00,  0.00000000e+00,  0.00000000e+00,\n",
      "         0.00000000e+00,  0.00000000e+00,  0.00000000e+00,\n",
      "         0.00000000e+00,  0.00000000e+00,  0.00000000e+00,\n",
      "         0.00000000e+00],\n",
      "       [-5.15005291e-01, -2.07849052e-02, -5.50307930e-02,\n",
      "         0.00000000e+00,  4.29015011e-02,  2.54187465e-01,\n",
      "         8.85365486e-01, -1.23018384e-01,  8.74650896e-01,\n",
      "         0.00000000e+00],\n",
      "       [-2.19482470e+00,  3.17106009e-01, -1.26879334e-01,\n",
      "         0.00000000e+00,  9.41570401e-01,  1.97306514e+00,\n",
      "         3.70752478e+00, -3.91982287e-01,  4.19257593e+00,\n",
      "         0.00000000e+00],\n",
      "       [-1.09094131e+00,  2.15909824e-01, -5.14820032e-02,\n",
      "         0.00000000e+00,  5.77029288e-01,  1.10856533e+00,\n",
      "         1.83339429e+00, -1.75826952e-01,  2.15074611e+00,\n",
      "         0.00000000e+00],\n",
      "       [-1.15888536e+00,  2.82340288e-01, -4.10091318e-02,\n",
      "         0.00000000e+00,  7.12059259e-01,  1.29381430e+00,\n",
      "         1.93899953e+00, -1.69499859e-01,  2.34542847e+00,\n",
      "         0.00000000e+00],\n",
      "       [-5.35232842e-01,  1.35744482e-01, -2.12725606e-02,\n",
      "         0.00000000e+00,  3.38862538e-01,  6.09273553e-01,\n",
      "         8.94664705e-01, -7.65407383e-02,  1.08936703e+00,\n",
      "         0.00000000e+00],\n",
      "       [-3.30356419e-01, -1.62902419e-02, -2.59396676e-02,\n",
      "         0.00000000e+00,  2.19883993e-02,  1.56564936e-01,\n",
      "         5.68407178e-01, -7.98760429e-02,  5.57665169e-01,\n",
      "         0.00000000e+00],\n",
      "       [ 1.29576612e-04,  1.92158313e-05,  0.00000000e+00,\n",
      "         0.00000000e+00,  1.53639503e-05, -3.32782183e-05,\n",
      "        -2.25024618e-04,  3.55126649e-05, -2.04031981e-04,\n",
      "         0.00000000e+00],\n",
      "       [-1.86881498e-01,  8.46045911e-02,  0.00000000e+00,\n",
      "         0.00000000e+00,  1.87905520e-01,  2.94341177e-01,\n",
      "         3.06356281e-01, -1.45915924e-02,  4.23013657e-01,\n",
      "         0.00000000e+00]], dtype=float32)>, <tf.Tensor: id=95531, shape=(10,), dtype=float32, numpy=\n",
      "array([-0.35667735,  0.06581371, -0.01831059,  0.        ,  0.17972271,\n",
      "        0.35196248,  0.6001916 , -0.05904336,  0.6976992 ,  0.        ],\n",
      "      dtype=float32)>, <tf.Tensor: id=95529, shape=(10, 3), dtype=float32, numpy=\n",
      "array([[-1.5758634e+00, -8.5125977e-01,  2.4271233e+00],\n",
      "       [-7.3834962e-01, -4.2961672e-01,  1.1679662e+00],\n",
      "       [ 1.9098071e-07, -2.0987086e-03,  2.0985175e-03],\n",
      "       [ 0.0000000e+00,  0.0000000e+00,  0.0000000e+00],\n",
      "       [-4.8840937e-01, -6.1014456e-01,  1.0985540e+00],\n",
      "       [-2.4826078e+00, -1.2862124e+00,  3.7688205e+00],\n",
      "       [-1.3597282e+00, -8.2625967e-01,  2.1859877e+00],\n",
      "       [-8.1577033e-01, -5.4635125e-01,  1.3621217e+00],\n",
      "       [-9.5328474e-01, -4.0435815e-01,  1.3576430e+00],\n",
      "       [ 0.0000000e+00,  0.0000000e+00,  0.0000000e+00]], dtype=float32)>, <tf.Tensor: id=95527, shape=(3,), dtype=float32, numpy=array([-0.40610787, -0.22569902,  0.63180685], dtype=float32)>]\n"
     ]
    }
   ],
   "source": [
    "# Compute the derivative of the cost function with GradientTape\n",
    "\n",
    "def compute_gradient(model, X, Y):\n",
    "    ''' Compute and return the derivative of the cost function for each parameters in the model\n",
    "    '''\n",
    "    with tf.GradientTape() as t:\n",
    "        cost_value = loss(model, X, Y)\n",
    "    return cost_value, t.gradient(cost_value, model.trainable_variables)\n",
    "\n",
    "cost, gradient = compute_gradient(model_NN, features, labels)\n",
    "print('Cost function of the untrained model: ', cost.numpy())\n",
    "print('Gradient of the untrained model: ', gradient) # List of Tensor. One tensor per parameter type in each layer"
   ]
  },
  {
   "cell_type": "code",
   "execution_count": 101,
   "metadata": {
    "collapsed": true
   },
   "outputs": [],
   "source": [
    "# Create an optimizer\n",
    "\n",
    "# Let's use Gradient Descent\n",
    "optimizer = tf.train.GradientDescentOptimizer(learning_rate = 0.01)\n",
    "\n",
    "# Count the number of time the parameters are updated (epochs * number of mini-batches)\n",
    "global_step_counter = tf.Variable(0)"
   ]
  },
  {
   "cell_type": "code",
   "execution_count": 102,
   "metadata": {
    "collapsed": false
   },
   "outputs": [
    {
     "name": "stdout",
     "output_type": "stream",
     "text": [
      "Iteration:  0  // Initial loss:  4.64447\n",
      "Iteration:  1  // Loss:  3.247139\n"
     ]
    }
   ],
   "source": [
    "# Train the model for two mini-batches\n",
    "\n",
    "cost_value, gradient = compute_gradient(model_NN, features, labels)\n",
    "print('Iteration: ', global_step_counter.numpy(), ' // Initial loss: ', cost_value.numpy())\n",
    "\n",
    "optimizer.apply_gradients(zip(gradient, model_NN.trainable_variables), # list of (gradient, variable) pairs\n",
    "                          global_step_counter) # will increment step by one\n",
    "print('Iteration: ', global_step_counter.numpy(), ' // Loss: ', loss(model_NN, features, labels).numpy())"
   ]
  },
  {
   "cell_type": "code",
   "execution_count": 103,
   "metadata": {
    "collapsed": false
   },
   "outputs": [
    {
     "name": "stdout",
     "output_type": "stream",
     "text": [
      "Epoch:  0  // Cost function:  2.4621672928333282  // Accuracy:  0.19166666666666668\n",
      "Epoch:  10  // Cost function:  0.7778570801019669  // Accuracy:  0.7\n",
      "Epoch:  20  // Cost function:  0.5852166563272476  // Accuracy:  0.7083333333333334\n",
      "Epoch:  30  // Cost function:  0.48268692940473557  // Accuracy:  0.8\n",
      "Epoch:  40  // Cost function:  0.4228135347366333  // Accuracy:  0.8916666666666667\n",
      "Epoch:  50  // Cost function:  0.37889987975358963  // Accuracy:  0.8916666666666667\n",
      "Epoch:  60  // Cost function:  0.34284983575344086  // Accuracy:  0.9333333333333333\n",
      "Epoch:  70  // Cost function:  0.3118067756295204  // Accuracy:  0.95\n",
      "Epoch:  80  // Cost function:  0.28469233959913254  // Accuracy:  0.9333333333333333\n",
      "Epoch:  90  // Cost function:  0.26098940894007683  // Accuracy:  0.9416666666666667\n",
      "Epoch:  100  // Cost function:  0.24035395681858063  // Accuracy:  0.9416666666666667\n",
      "Epoch:  110  // Cost function:  0.2224670983850956  // Accuracy:  0.95\n",
      "Epoch:  120  // Cost function:  0.20703602209687233  // Accuracy:  0.9583333333333334\n",
      "Epoch:  130  // Cost function:  0.19371873512864113  // Accuracy:  0.9583333333333334\n",
      "Epoch:  140  // Cost function:  0.18220005556941032  // Accuracy:  0.9583333333333334\n",
      "Epoch:  150  // Cost function:  0.17221466079354286  // Accuracy:  0.9583333333333334\n",
      "Epoch:  160  // Cost function:  0.16351985931396484  // Accuracy:  0.9666666666666667\n",
      "Epoch:  170  // Cost function:  0.1559126228094101  // Accuracy:  0.9666666666666667\n",
      "Epoch:  180  // Cost function:  0.14923247508704662  // Accuracy:  0.9666666666666667\n",
      "Epoch:  190  // Cost function:  0.14332565292716026  // Accuracy:  0.9666666666666667\n",
      "Epoch:  200  // Cost function:  0.13807816244661808  // Accuracy:  0.9666666666666667\n"
     ]
    }
   ],
   "source": [
    "# The model is ready for training\n",
    "\n",
    "from tensorflow import contrib\n",
    "tfe = contrib.eager\n",
    "\n",
    "# Keep track of the training cost function value and accuracy at the end of each epoch\n",
    "cost_history = []\n",
    "accuracy_history = []\n",
    "\n",
    "epochs = 201\n",
    "\n",
    "for epoch in range(epochs):\n",
    "    # Define object to compute the mean and accuracy at each epoch\n",
    "    epoch_average_loss = tfe.metrics.Mean()\n",
    "    epoch_accuracy = tfe.metrics.Accuracy()\n",
    "    \n",
    "    # Loop over all the mini-batches\n",
    "    for x, y in dataset:\n",
    "        # Update the parameters\n",
    "        cost_mini_batch, gradient_mini_batch = compute_gradient(model_NN, x, y)\n",
    "        optimizer.apply_gradients(zip(gradient_mini_batch, model_NN.trainable_variables),\n",
    "                                  global_step_counter)\n",
    "        \n",
    "        # Keep track of progress\n",
    "        epoch_average_loss(cost_mini_batch) # Add current mini batch cost function value\n",
    "        # Pass the prections and actual label to compute the accuracy on the current mini batch\n",
    "        epoch_accuracy(tf.argmax(model_NN(x), axis = 1, output_type=tf.int32), y) \n",
    "    \n",
    "    # Compute the cost function/accuracy for the entier batch (for one epoch)\n",
    "    cost_history.append(epoch_average_loss.result())\n",
    "    accuracy_history.append(epoch_accuracy.result())\n",
    "    \n",
    "    # Print some intermediate results\n",
    "    \n",
    "    if epoch % 10 == 0:\n",
    "        print('Epoch: ', epoch, ' // Cost function: ', cost_history[-1].numpy(), ' // Accuracy: ', accuracy_history[-1].numpy())\n",
    "        "
   ]
  },
  {
   "cell_type": "code",
   "execution_count": 106,
   "metadata": {
    "collapsed": false
   },
   "outputs": [
    {
     "data": {
      "image/png": "[encoded data removed]",
      "text/plain": [
       "<Figure size 864x576 with 2 Axes>"
      ]
     },
     "metadata": {},
     "output_type": "display_data"
    }
   ],
   "source": [
    "### 4/ Visualization\n",
    "# Let's visualize the cost function / accuracy over time\n",
    "\n",
    "# We can use TensorBoard to create nice visualization, but let's use matplotlib\n",
    "\n",
    "# Create a figure and a set of subplots.\n",
    "# Args: (Number of columns or rows, True is the figure share the x-axis, size of the figure(top-level container))\n",
    "fig, axis = plt.subplots(2, sharex=True, figsize=(12, 8)) \n",
    "plt.suptitle('Training metrics')\n",
    "\n",
    "# Set the axis of the first subplot\n",
    "axis[0].set_ylabel('Cost', fontsize=14)\n",
    "axis[0].plot(cost_history)\n",
    "\n",
    "axis[1].set_ylabel('Accuracy', fontsize=14)\n",
    "axis[1].set_xlabel('Epoch number', fontsize=14)\n",
    "axis[1].plot(accuracy_history)\n",
    "\n",
    "plt.show()"
   ]
  },
  {
   "cell_type": "code",
   "execution_count": 108,
   "metadata": {
    "collapsed": false
   },
   "outputs": [
    {
     "name": "stdout",
     "output_type": "stream",
     "text": [
      "Downloading data from https://storage.googleapis.com/download.tensorflow.org/data/iris_test.csv\n",
      "8192/573 [============================================================================================================================================================================================================================================================================================================================================================================================================================================] - 0s 0us/step\n"
     ]
    }
   ],
   "source": [
    "# Now let's evaluate our model on a test set\n",
    "\n",
    "test_set_url = \"https://storage.googleapis.com/download.tensorflow.org/data/iris_test.csv\"\n",
    "# Download the test set\n",
    "test_set_file = tf.keras.utils.get_file(fname = os.path.basename(test_set_url),\n",
    "                                        origin = test_set_url)"
   ]
  },
  {
   "cell_type": "code",
   "execution_count": 109,
   "metadata": {
    "collapsed": true
   },
   "outputs": [],
   "source": [
    "# Construct a dataset from the CSV file\n",
    "\n",
    "test_dataset = tf.contrib.data.make_csv_dataset(test_set_file,\n",
    "                                           batch_size,\n",
    "                                           column_names = column_names,\n",
    "                                           label_name = 'species',\n",
    "                                           num_epochs = 1, # specifying the number of times this dataset is repeated\n",
    "                                           shuffle = False) # No need to shuffle the test set\n",
    "\n",
    "# Transform the dataset in the suitable shape for the model_NN\n",
    "test_dataset = test_dataset.map(stack_features)"
   ]
  },
  {
   "cell_type": "code",
   "execution_count": 117,
   "metadata": {
    "collapsed": false
   },
   "outputs": [
    {
     "name": "stdout",
     "output_type": "stream",
     "text": [
      "Accuracy on the test set:  0.9666666666666667\n",
      "------------------------------\n",
      "Prediction on the last mini-batch:  [1 2 0 1 1 1 0 2 1 2 2 0 2 1 1 0 1 0 0 2 0 1 2 2 1 1 0 1 2 1]\n",
      "Actual class on the last mini-batch:  [1 2 0 1 1 1 0 2 1 2 2 0 2 1 1 0 1 0 0 2 0 1 2 1 1 1 0 1 2 1]\n",
      "Any difference ? [0 0 0 0 0 0 0 0 0 0 0 0 0 0 0 0 0 0 0 0 0 0 0 1 0 0 0 0 0 0]\n"
     ]
    }
   ],
   "source": [
    "# Compute the accuracy on the test set\n",
    "\n",
    "accuracy_test_set = tfe.metrics.Accuracy()\n",
    "\n",
    "# Iterate over all the mini-batches\n",
    "for (x, y) in test_dataset:\n",
    "    predictions = model_NN(x)\n",
    "    accuracy_test_set(tf.argmax(predictions, axis = 1, output_type=tf.int32), y)\n",
    "    \n",
    "print('Accuracy on the test set: ', accuracy_test_set.result().numpy())\n",
    "print('-' * 30)\n",
    "# Let's look at the prediction on the last mini-batch\n",
    "print('Prediction on the last mini-batch: ', tf.argmax(predictions, axis = 1).numpy())\n",
    "print('Actual class on the last mini-batch: ', y.numpy())\n",
    "print('Any difference ?', (tf.argmax(predictions, axis = 1).numpy() != y.numpy()).astype(int))"
   ]
  },
  {
   "cell_type": "code",
   "execution_count": 126,
   "metadata": {
    "collapsed": false
   },
   "outputs": [
    {
     "name": "stdout",
     "output_type": "stream",
     "text": [
      "Example  0 , predicted class:  Iris setosa  ( 0.97964966 ).\n",
      "Example  1 , predicted class:  Iris versicolor  ( 0.9279401 ).\n",
      "Example  2 , predicted class:  Iris virginica  ( 0.6989055 ).\n"
     ]
    }
   ],
   "source": [
    "# Let's make prediction on unlabeled data \n",
    "\n",
    "# Generate some input\n",
    "unlabeled_data = tf.convert_to_tensor([\n",
    "    [5.1, 3.3, 1.7, 0.5,],\n",
    "    [5.9, 3.0, 4.2, 1.5,],\n",
    "    [6.9, 3.1, 5.4, 2.1]])\n",
    "\n",
    "# Compute the predictions\n",
    "predictions = model_NN(unlabeled_data)\n",
    "\n",
    "for i, prediction in enumerate(predictions):\n",
    "    # Get the probabilities for the 3 classes\n",
    "    p = tf.nn.softmax(prediction)\n",
    "    # Pick the highest one\n",
    "    class_index = tf.argmax(p).numpy()\n",
    "    # Get the class name\n",
    "    name = class_names[class_index]\n",
    "    print('Example ', i, ', predicted class: ', name, ' (',tf.reduce_max(p).numpy(),').')"
   ]
  },
  {
   "cell_type": "code",
   "execution_count": null,
   "metadata": {
    "collapsed": true
   },
   "outputs": [],
   "source": []
  }
 ],
 "metadata": {
  "kernelspec": {
   "display_name": "Python 3",
   "language": "python",
   "name": "python3"
  },
  "language_info": {
   "codemirror_mode": {
    "name": "ipython",
    "version": 3
   },
   "file_extension": ".py",
   "mimetype": "text/x-python",
   "name": "python",
   "nbconvert_exporter": "python",
   "pygments_lexer": "ipython3",
   "version": "3.6.7"
  }
 },
 "nbformat": 4,
 "nbformat_minor": 2
}
